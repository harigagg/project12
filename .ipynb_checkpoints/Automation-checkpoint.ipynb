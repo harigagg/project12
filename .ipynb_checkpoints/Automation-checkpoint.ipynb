{
 "cells": [
  {
   "cell_type": "code",
   "execution_count": 1,
   "metadata": {},
   "outputs": [],
   "source": [
    "import subprocess\n",
    "import os\n",
    "path = r'C:\\Users\\harika.gaggara\\Documents\\PycharmProjects\\automation.bat'"
   ]
  },
  {
   "cell_type": "code",
   "execution_count": 2,
   "metadata": {},
   "outputs": [],
   "source": [
    "from tkinter import *\n",
    "import tkinter as ttk\n",
    "#from ttk import *\n",
    "\n",
    "root = Tk()\n",
    "root.title(\"Subjects\")\n",
    "\n",
    "root1 = Tk()\n",
    "root1.title(\"Cases\")\n",
    "\n",
    "# Add a grid\n",
    "mainframe = Frame(root)\n",
    "mainframe.grid(column=0,row=0, sticky=(N,W,E,S) )\n",
    "mainframe.columnconfigure(0, weight = 1)\n",
    "mainframe.rowconfigure(0, weight = 1)\n",
    "mainframe.pack(pady = 100, padx = 100)\n",
    "\n",
    "# Add a grid\n",
    "mainframe1 = Frame(root1)\n",
    "mainframe1.grid(column=0,row=0, sticky=(N,W,E,S) )\n",
    "mainframe1.columnconfigure(0, weight = 1)\n",
    "mainframe1.rowconfigure(0, weight = 1)\n",
    "mainframe1.pack(pady = 100, padx = 100)\n",
    "\n",
    "\n",
    "# Create a Tkinter variable\n",
    "tkvar = StringVar(root)\n",
    "\n",
    "# Dictionary with options\n",
    "subjects = {'Paul', 'Arevik', 'Reza', 'Munir', 'Diogo'}\n",
    "\n",
    "cases = {'nothing', 'laptop', 'pliers', 'phone', 'wallet',\\\n",
    "        'colt', 'magnum', 'knife', 'blade', 'bomb-belt'}\n",
    "\n",
    "tkvar.set('Subjects') # set the default option\n",
    "\n",
    "popupMenu = OptionMenu(mainframe, tkvar, *subjects)\n",
    "Label(mainframe, text=\"Choose a subject\").grid(row = 1, column = 1)\n",
    "popupMenu.grid(row = 2, column =1)\n",
    "\n",
    "# on change dropdown value\n",
    "def change_dropdown(*args):\n",
    "    print( 'Subject changed to {}'.format(tkvar.get() ))\n",
    "\n",
    "def ok():\n",
    "    print (\"selected subject is:\" + tkvar.get())\n",
    "\n",
    "def ok1():\n",
    "    print (\"selected case is:\" + tkvar1.get())\n",
    "#button = Button(root, text = 'Next', command=ok)\n",
    "#button.pack()\n",
    "\n",
    "tkvar1 = StringVar(root1)\n",
    "\n",
    "popupMenu = OptionMenu(mainframe, tkvar1, *cases)\n",
    "Label(mainframe1, text = 'Choose a test case').grid(row=1, column =1)\n",
    "popupMenu.grid(row=2, column=1)\n",
    "\n",
    "def change_dropdown(*args):\n",
    "    print('Case has been changed to {}'.format(tkvar1.get()))\n",
    "    \n",
    "def ok():\n",
    "    print('case selected is {}' +tkvar1.get())\n",
    "button = Button(root1, text = 'Next', command=ok1)\n",
    "\n",
    "# link function to change dropdown\n",
    "tkvar.trace('w', change_dropdown)\n",
    "\n",
    "root.mainloop()"
   ]
  },
  {
   "cell_type": "code",
   "execution_count": 3,
   "metadata": {},
   "outputs": [
    {
     "name": "stdout",
     "output_type": "stream",
     "text": [
      "case selected is {}\n"
     ]
    }
   ],
   "source": [
    "from tkinter import *\n",
    "\n",
    "OPTIONS = [\n",
    "\"Jan\",\n",
    "\"Feb\",\n",
    "\"Mar\"\n",
    "] #etc\n",
    "\n",
    "master = Tk()\n",
    "\n",
    "variable = StringVar(master)\n",
    "variable.set(OPTIONS[0]) # default value\n",
    "\n",
    "w = OptionMenu(master, variable, *OPTIONS)\n",
    "w.pack()\n",
    "\n",
    "\n",
    "\n",
    "button = Button(master, text=\"OK\", command=ok)\n",
    "button.pack()\n",
    "\n",
    "mainloop()"
   ]
  },
  {
   "cell_type": "code",
   "execution_count": 4,
   "metadata": {},
   "outputs": [
    {
     "name": "stderr",
     "output_type": "stream",
     "text": [
      "Exception in Tkinter callback\n",
      "Traceback (most recent call last):\n",
      "  File \"c:\\users\\harika.gaggara\\appdata\\local\\programs\\python\\python37\\lib\\tkinter\\__init__.py\", line 1705, in __call__\n",
      "    return self.func(*args)\n",
      "  File \"<ipython-input-4-200e22ae2d42>\", line 9, in start_batch\n",
      "    subprocess.call([path])\n",
      "  File \"c:\\users\\harika.gaggara\\appdata\\local\\programs\\python\\python37\\lib\\subprocess.py\", line 323, in call\n",
      "    with Popen(*popenargs, **kwargs) as p:\n",
      "  File \"c:\\users\\harika.gaggara\\appdata\\local\\programs\\python\\python37\\lib\\subprocess.py\", line 775, in __init__\n",
      "    restore_signals, start_new_session)\n",
      "  File \"c:\\users\\harika.gaggara\\appdata\\local\\programs\\python\\python37\\lib\\subprocess.py\", line 1178, in _execute_child\n",
      "    startupinfo)\n",
      "FileNotFoundError: [WinError 2] The system cannot find the file specified\n",
      "Exception in Tkinter callback\n",
      "Traceback (most recent call last):\n",
      "  File \"c:\\users\\harika.gaggara\\appdata\\local\\programs\\python\\python37\\lib\\tkinter\\__init__.py\", line 1705, in __call__\n",
      "    return self.func(*args)\n",
      "  File \"<ipython-input-4-200e22ae2d42>\", line 9, in start_batch\n",
      "    subprocess.call([path])\n",
      "  File \"c:\\users\\harika.gaggara\\appdata\\local\\programs\\python\\python37\\lib\\subprocess.py\", line 323, in call\n",
      "    with Popen(*popenargs, **kwargs) as p:\n",
      "  File \"c:\\users\\harika.gaggara\\appdata\\local\\programs\\python\\python37\\lib\\subprocess.py\", line 775, in __init__\n",
      "    restore_signals, start_new_session)\n",
      "  File \"c:\\users\\harika.gaggara\\appdata\\local\\programs\\python\\python37\\lib\\subprocess.py\", line 1178, in _execute_child\n",
      "    startupinfo)\n",
      "FileNotFoundError: [WinError 2] The system cannot find the file specified\n"
     ]
    }
   ],
   "source": [
    "import subprocess\n",
    "import tkinter as tk \n",
    "\n",
    "root = tk.Tk()\n",
    "\n",
    "canvas1 = tk.Canvas(root, width = 350, height = 250)\n",
    "\n",
    "def start_batch():\n",
    "    subprocess.call([path])\n",
    "button1 = tk.Button(root, text = 'select the subject', command = start_batch)\n",
    "canvas1.pack()\n",
    "canvas1.create_window(170,130, window=button1)\n",
    "root.mainloop()"
   ]
  },
  {
   "cell_type": "code",
   "execution_count": null,
   "metadata": {},
   "outputs": [],
   "source": []
  }
 ],
 "metadata": {
  "kernelspec": {
   "display_name": "Python 3",
   "language": "python",
   "name": "python3"
  },
  "language_info": {
   "codemirror_mode": {
    "name": "ipython",
    "version": 3
   },
   "file_extension": ".py",
   "mimetype": "text/x-python",
   "name": "python",
   "nbconvert_exporter": "python",
   "pygments_lexer": "ipython3",
   "version": "3.7.4"
  }
 },
 "nbformat": 4,
 "nbformat_minor": 2
}
